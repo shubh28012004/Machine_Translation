{
 "cells": [
  {
   "cell_type": "markdown",
   "metadata": {},
   "source": [
    "    SHUBH AGARWAL \n",
    "    PRN: 22070126108"
   ]
  },
  {
   "cell_type": "code",
   "execution_count": 1,
   "metadata": {},
   "outputs": [
    {
     "name": "stderr",
     "output_type": "stream",
     "text": [
      "[nltk_data] Downloading package punkt to\n",
      "[nltk_data]     C:\\Users\\samee\\AppData\\Roaming\\nltk_data...\n",
      "[nltk_data]   Package punkt is already up-to-date!\n"
     ]
    },
    {
     "data": {
      "text/plain": [
       "True"
      ]
     },
     "execution_count": 1,
     "metadata": {},
     "output_type": "execute_result"
    }
   ],
   "source": [
    "import pandas as pd\n",
    "import torch\n",
    "import torch.nn as nn\n",
    "from torch.utils.data import Dataset, DataLoader\n",
    "from sklearn.model_selection import train_test_split\n",
    "import numpy as np\n",
    "from tqdm import tqdm\n",
    "import time\n",
    "import nltk\n",
    "nltk.download('punkt')"
   ]
  },
  {
   "cell_type": "code",
   "execution_count": 2,
   "metadata": {},
   "outputs": [
    {
     "name": "stdout",
     "output_type": "stream",
     "text": [
      "Using device: cuda\n"
     ]
    }
   ],
   "source": [
    "# Check if CUDA is available\n",
    "device = torch.device('cuda' if torch.cuda.is_available() else 'cpu')\n",
    "print(f\"Using device: {device}\")"
   ]
  },
  {
   "cell_type": "code",
   "execution_count": 3,
   "metadata": {},
   "outputs": [],
   "source": [
    "# Load and preprocess data\n",
    "df = pd.read_csv(r'C:\\Users\\samee\\OneDrive\\Documents\\SEM5\\NLP\\Assignment 3\\Hindi_English_Truncated_Corpus.csv')  # Replace with your dataset path\n",
    "df.dropna(inplace=True)\n",
    "df = df.sample(frac=1, random_state=42)  # Shuffle the data\n",
    "src_lang = df['english_sentence'].astype(str).tolist()\n",
    "tgt_lang = df['hindi_sentence'].astype(str).tolist()"
   ]
  },
  {
   "cell_type": "code",
   "execution_count": 4,
   "metadata": {},
   "outputs": [],
   "source": [
    "def create_vocab(sentences):\n",
    "    vocab = set()\n",
    "    for sentence in sentences:\n",
    "        vocab.update(str(sentence).split())\n",
    "    return vocab"
   ]
  },
  {
   "cell_type": "code",
   "execution_count": 5,
   "metadata": {},
   "outputs": [],
   "source": [
    "src_vocab = create_vocab(src_lang)\n",
    "tgt_vocab = create_vocab(tgt_lang)\n",
    "src_vocab_size = len(src_vocab) + 1  # Add 1 for padding\n",
    "tgt_vocab_size = len(tgt_vocab) + 1  # Add 1 for padding"
   ]
  },
  {
   "cell_type": "code",
   "execution_count": 6,
   "metadata": {},
   "outputs": [],
   "source": [
    "# Create word to index mappings\n",
    "src_word2idx = {word: idx + 1 for idx, word in enumerate(src_vocab)}  # Start indexing from 1\n",
    "tgt_word2idx = {word: idx + 1 for idx, word in enumerate(tgt_vocab)}  # Start indexing from 1\n",
    "src_word2idx['<PAD>'] = 0  # Padding index\n",
    "tgt_word2idx['<PAD>'] = 0  # Padding index\n",
    "\n",
    "src_idx2word = {idx: word for word, idx in src_word2idx.items()}\n",
    "tgt_idx2word = {idx: word for word, idx in tgt_word2idx.items()}"
   ]
  },
  {
   "cell_type": "code",
   "execution_count": 7,
   "metadata": {},
   "outputs": [],
   "source": [
    "# Convert sentences to indices\n",
    "def sentence_to_indices(sentence, word2idx):\n",
    "    return [word2idx.get(word, 0) for word in str(sentence).split()]"
   ]
  },
  {
   "cell_type": "code",
   "execution_count": 8,
   "metadata": {},
   "outputs": [],
   "source": [
    "src_indices = [sentence_to_indices(sentence, src_word2idx) for sentence in src_lang]\n",
    "tgt_indices = [sentence_to_indices(sentence, tgt_word2idx) for sentence in tgt_lang]"
   ]
  },
  {
   "cell_type": "code",
   "execution_count": 9,
   "metadata": {},
   "outputs": [],
   "source": [
    "# Pad sequences\n",
    "max_src_len = max(len(s) for s in src_indices)\n",
    "max_tgt_len = max(len(s) for s in tgt_indices)\n",
    "\n",
    "src_indices = [s + [0] * (max_src_len - len(s)) for s in src_indices]\n",
    "tgt_indices = [s + [0] * (max_tgt_len - len(s)) for s in tgt_indices]"
   ]
  },
  {
   "cell_type": "code",
   "execution_count": 10,
   "metadata": {},
   "outputs": [],
   "source": [
    "# Create dataset\n",
    "class TranslationDataset(Dataset):\n",
    "    def __init__(self, src, tgt):\n",
    "        self.src = src\n",
    "        self.tgt = tgt\n",
    "\n",
    "    def __len__(self):\n",
    "        return len(self.src)\n",
    "\n",
    "    def __getitem__(self, idx):\n",
    "        return torch.tensor(self.src[idx]), torch.tensor(self.tgt[idx])\n"
   ]
  },
  {
   "cell_type": "code",
   "execution_count": 11,
   "metadata": {},
   "outputs": [],
   "source": [
    "# Split data into train and test sets\n",
    "X_train, X_test, y_train, y_test = train_test_split(src_indices, tgt_indices, test_size=0.2, random_state=42)\n"
   ]
  },
  {
   "cell_type": "code",
   "execution_count": 12,
   "metadata": {},
   "outputs": [],
   "source": [
    "# Create dataloaders\n",
    "train_dataset = TranslationDataset(X_train, y_train)\n",
    "test_dataset = TranslationDataset(X_test, y_test)\n",
    "train_loader = DataLoader(train_dataset, batch_size=16, shuffle=True)\n",
    "test_loader = DataLoader(test_dataset, batch_size=16, shuffle=False)"
   ]
  },
  {
   "cell_type": "code",
   "execution_count": 13,
   "metadata": {},
   "outputs": [],
   "source": [
    "# Define the Seq2Seq model using LSTM with embedding layers\n",
    "class Seq2SeqLSTM(nn.Module):\n",
    "    def __init__(self, src_vocab_size, tgt_vocab_size, hidden_size):\n",
    "        super(Seq2SeqLSTM, self).__init__()\n",
    "        self.src_embedding = nn.Embedding(src_vocab_size, hidden_size)\n",
    "        self.tgt_embedding = nn.Embedding(tgt_vocab_size, hidden_size)\n",
    "        self.encoder = nn.LSTM(hidden_size, hidden_size, batch_first=True)\n",
    "        self.decoder = nn.LSTM(hidden_size, hidden_size, batch_first=True)\n",
    "        self.fc = nn.Linear(hidden_size, tgt_vocab_size)\n",
    "\n",
    "    def forward(self, src, tgt):\n",
    "        src_embedded = self.src_embedding(src)\n",
    "        tgt_embedded = self.tgt_embedding(tgt)\n",
    "        _, (hidden, cell) = self.encoder(src_embedded)\n",
    "        output, _ = self.decoder(tgt_embedded, (hidden, cell))\n",
    "        return self.fc(output)"
   ]
  },
  {
   "cell_type": "code",
   "execution_count": 14,
   "metadata": {},
   "outputs": [],
   "source": [
    "# Initialize the Seq2Seq model\n",
    "model = Seq2SeqLSTM(src_vocab_size, tgt_vocab_size, hidden_size=256).to(device)\n",
    "optimizer = torch.optim.Adam(model.parameters(), lr=0.001)\n",
    "criterion = nn.CrossEntropyLoss(ignore_index=0)  # Use padding index"
   ]
  },
  {
   "cell_type": "code",
   "execution_count": 15,
   "metadata": {},
   "outputs": [
    {
     "name": "stderr",
     "output_type": "stream",
     "text": [
      "Epoch 1/2: 100%|██████████| 6381/6381 [6:06:21<00:00,  3.44s/it, Loss=6.4746, Batch=6381/6381]  \n"
     ]
    },
    {
     "name": "stdout",
     "output_type": "stream",
     "text": [
      "Epoch 1/2 completed. Average Loss: 6.4746\n",
      "Validation Loss: 5.8262\n",
      "Model saved!\n"
     ]
    },
    {
     "name": "stderr",
     "output_type": "stream",
     "text": [
      "Epoch 2/2: 100%|██████████| 6381/6381 [5:21:41<00:00,  3.02s/it, Loss=5.1379, Batch=6381/6381]  \n"
     ]
    },
    {
     "name": "stdout",
     "output_type": "stream",
     "text": [
      "Epoch 2/2 completed. Average Loss: 5.1379\n",
      "Validation Loss: 5.3763\n",
      "Model saved!\n"
     ]
    }
   ],
   "source": [
    "# Training loop\n",
    "num_epochs = 2\n",
    "for epoch in range(num_epochs):\n",
    "    model.train()\n",
    "    total_loss = 0\n",
    "    progress_bar = tqdm(enumerate(train_loader), total=len(train_loader), desc=f\"Epoch {epoch+1}/{num_epochs}\")\n",
    "\n",
    "    for batch_idx, (src, tgt) in progress_bar:\n",
    "        src, tgt = src.to(device), tgt.to(device)\n",
    "        optimizer.zero_grad()\n",
    "\n",
    "        # Forward pass\n",
    "        output = model(src, tgt[:, :-1])\n",
    "        loss = criterion(output.reshape(-1, tgt_vocab_size), tgt[:, 1:].reshape(-1))\n",
    "        loss.backward()\n",
    "        optimizer.step()\n",
    "\n",
    "        total_loss += loss.item()\n",
    "        avg_loss = total_loss / (batch_idx + 1)\n",
    "\n",
    "        # Update progress bar\n",
    "        progress_bar.set_postfix({\n",
    "            'Loss': f'{avg_loss:.4f}',\n",
    "            'Batch': f'{batch_idx+1}/{len(train_loader)}'\n",
    "        })\n",
    "\n",
    "    print(f\"Epoch {epoch+1}/{num_epochs} completed. Average Loss: {avg_loss:.4f}\")\n",
    "\n",
    "    # Validation\n",
    "    model.eval()\n",
    "    val_loss = 0\n",
    "    with torch.no_grad():\n",
    "        for src, tgt in test_loader:\n",
    "            src, tgt = src.to(device), tgt.to(device)\n",
    "            output = model(src, tgt[:, :-1])\n",
    "            loss = criterion(output.reshape(-1, tgt_vocab_size), tgt[:, 1:].reshape(-1))\n",
    "            val_loss += loss.item()\n",
    "\n",
    "    val_loss /= len(test_loader)\n",
    "    print(f\"Validation Loss: {val_loss:.4f}\")\n",
    "\n",
    "    # Save the best model\n",
    "    torch.save(model.state_dict(), 'best_translation_model.pth')\n",
    "    print(\"Model saved!\")\n"
   ]
  },
  {
   "cell_type": "code",
   "execution_count": 16,
   "metadata": {},
   "outputs": [],
   "source": [
    "# Inference function for translation\n",
    "def translate(model, test_loader, src_idx2word, tgt_idx2word, device, max_tgt_len):\n",
    "    model.eval()\n",
    "    all_translations = []\n",
    "    all_references = []\n",
    "\n",
    "    for src, tgt in tqdm(test_loader, desc=\"Translating\"):\n",
    "        src, tgt = src.to(device), tgt.to(device)\n",
    "        for i in range(len(src)):\n",
    "            src_sentence = ' '.join([src_idx2word.get(idx.item(), \"\") for idx in src[i] if idx.item() != 0])\n",
    "            tgt_sentence = ' '.join([tgt_idx2word.get(idx.item(), \"\") for idx in tgt[i] if idx.item() != 0])\n",
    "\n",
    "            src_tensor = torch.tensor([src[i].tolist()], device=device)\n",
    "            with torch.no_grad():\n",
    "                _, (hidden, cell) = model.encoder(model.src_embedding(src_tensor))\n",
    "                tgt_tensor = torch.zeros(1, 1, dtype=torch.long, device=device)\n",
    "\n",
    "                output_sentence = []\n",
    "                for _ in range(max_tgt_len):\n",
    "                    output, (hidden, cell) = model.decoder(model.tgt_embedding(tgt_tensor), (hidden, cell))\n",
    "                    output = model.fc(output)\n",
    "                    predicted = output.argmax(2).item()\n",
    "                    if predicted == 0:\n",
    "                        break\n",
    "                    output_sentence.append(tgt_idx2word.get(predicted, \"\"))\n",
    "                    tgt_tensor = torch.tensor([[predicted]], device=device)\n",
    "\n",
    "            all_translations.append(' '.join(output_sentence))\n",
    "            all_references.append(tgt_sentence)\n",
    "\n",
    "    return all_translations, all_references\n"
   ]
  },
  {
   "cell_type": "code",
   "execution_count": 17,
   "metadata": {},
   "outputs": [
    {
     "name": "stderr",
     "output_type": "stream",
     "text": [
      "C:\\Users\\samee\\AppData\\Local\\Temp\\ipykernel_22028\\3140131770.py:3: FutureWarning: You are using `torch.load` with `weights_only=False` (the current default value), which uses the default pickle module implicitly. It is possible to construct malicious pickle data which will execute arbitrary code during unpickling (See https://github.com/pytorch/pytorch/blob/main/SECURITY.md#untrusted-models for more details). In a future release, the default value for `weights_only` will be flipped to `True`. This limits the functions that could be executed during unpickling. Arbitrary objects will no longer be allowed to be loaded via this mode unless they are explicitly allowlisted by the user via `torch.serialization.add_safe_globals`. We recommend you start setting `weights_only=True` for any use case where you don't have full control of the loaded file. Please open an issue on GitHub for any issues related to this experimental feature.\n",
      "  model.load_state_dict(torch.load('best_translation_model.pth'))\n",
      "Translating: 100%|██████████| 1596/1596 [13:17<00:00,  2.00it/s]\n"
     ]
    }
   ],
   "source": [
    "# Translate and calculate BLEU score\n",
    "from nltk.translate.bleu_score import corpus_bleu\n",
    "model.load_state_dict(torch.load('best_translation_model.pth'))\n",
    "translations, references = translate(model, test_loader, src_idx2word, tgt_idx2word, device, max_tgt_len=20)\n"
   ]
  },
  {
   "cell_type": "code",
   "execution_count": 79,
   "metadata": {},
   "outputs": [
    {
     "name": "stderr",
     "output_type": "stream",
     "text": [
      "[nltk_data] Downloading package punkt to C:/nltk_data...\n",
      "[nltk_data]   Package punkt is already up-to-date!\n"
     ]
    }
   ],
   "source": [
    "import nltk\n",
    "import os\n",
    "from urllib.request import urlretrieve\n",
    "\n",
    "# Define the directory for nltk_data\n",
    "nltk_data_dir = 'C:/nltk_data'\n",
    "if not os.path.exists(nltk_data_dir):\n",
    "    os.makedirs(nltk_data_dir)\n",
    "\n",
    "# Redownload punkt manually if necessary\n",
    "punkt_url = 'https://raw.githubusercontent.com/nltk/nltk_data/gh-pages/packages/tokenizers/punkt.zip'\n",
    "punkt_path = os.path.join(nltk_data_dir, 'punkt.zip')\n",
    "urlretrieve(punkt_url, punkt_path)\n",
    "\n",
    "# Extract the punkt package\n",
    "import zipfile\n",
    "with zipfile.ZipFile(punkt_path, 'r') as zip_ref:\n",
    "    zip_ref.extractall(nltk_data_dir)\n",
    "\n",
    "# Load NLTK data path and tokenizer\n",
    "nltk.data.path.append(nltk_data_dir)\n",
    "nltk.download('punkt', download_dir=nltk_data_dir)\n",
    "\n",
    "# Now perform tokenization\n",
    "from nltk.tokenize import word_tokenize\n",
    "\n",
    "processed_translations = [word_tokenize(t.lower()) for t in translations]\n",
    "processed_references = [[word_tokenize(r.lower())] for r in references]\n"
   ]
  },
  {
   "cell_type": "code",
   "execution_count": 80,
   "metadata": {},
   "outputs": [
    {
     "name": "stdout",
     "output_type": "stream",
     "text": [
      "BLEU Score: 0.0030\n"
     ]
    }
   ],
   "source": [
    "# Calculate BLEU score\n",
    "bleu_score = corpus_bleu(processed_references, processed_translations)\n",
    "print(f\"BLEU Score: {bleu_score:.4f}\")\n"
   ]
  },
  {
   "cell_type": "code",
   "execution_count": 81,
   "metadata": {},
   "outputs": [
    {
     "name": "stdout",
     "output_type": "stream",
     "text": [
      "\n",
      "Example Translations:\n",
      "Source: इसके साथ-साथ चंद्रशेखर आजाद सरदार भगत सिंह सुख देव राजगुरू नेताजी सुभाष चन्द्र बोस वीर सावरकर आदि के नेतृत्व मे चले क्रांतिकारी संघर्ष के फलस्वरुप १५ अगस्त १९४७ भारत ने अंग्रेजी शासन से पूर्णतः स्वतंत्रता प्राप्त की।\n",
      "Translation: के अनुसार ईश्वर ने अपने जीवन के बारे में सुना दिया। पर वह ‎समाज बनाया और उसे अपने जीवन के\n",
      "Reference: इसके साथ-साथ चंद्रशेखर आजाद सरदार भगत सिंह सुख देव राजगुरू नेताजी सुभाष चन्द्र बोस वीर सावरकर आदि के नेतृत्व मे चले क्रांतिकारी संघर्ष के फलस्वरुप १५ अगस्त १९४७ भारत ने अंग्रेजी शासन से पूर्णतः स्वतंत्रता प्राप्त की।\n",
      "\n",
      "Source: अब उनके मन में आया कि उन्हें मिट्टी के घर में ही रहना होगा और एक मिट्टी का घर तो बनना ही है , ऋस मकान में वे उस समय रह रहे थे उसी के पास .\n",
      "Translation: के बारे में जानकारी के लिए यह आवश्यक है कि वह किसी भी व्यक्ति को किसी भी तरह से किसी\n",
      "Reference: अब उनके मन में आया कि उन्हें मिट्टी के घर में ही रहना होगा और एक मिट्टी का घर तो बनना ही है , ऋस मकान में वे उस समय रह रहे थे उसी के पास .\n",
      "\n",
      "Source: मगर मुल्ला असमुद्दीन अक्षम सिद्ध हुए।\n",
      "Translation: के बारे में जानकारी के बारे में जानकारी दे सकते हैं | आप क्या कर सकते हैं | आप क्या\n",
      "Reference: मगर मुल्ला असमुद्दीन अक्षम सिद्ध हुए।\n",
      "\n",
      "Source: और भारत में केवल दो साधन हैं, एक वास्तविक, एक लिखित.\n",
      "Translation: के अनुसार ईश्वर ने पुष्टिमार्ग में दीक्षित कर रहे थे और उनका जन्म 563 ईस्वी में विलय किया था। और\n",
      "Reference: और भारत में केवल दो साधन हैं, एक वास्तविक, एक लिखित.\n",
      "\n",
      "Source: परराष्ट्र मन्त्रालय\n",
      "Translation: के बारे में जानकारी के बारे में जानकारी दे सकते हैं | आप क्या कर सकते हैं. क्या आप क्या\n",
      "Reference: परराष्ट्र मन्त्रालय\n",
      "\n"
     ]
    }
   ],
   "source": [
    "# Print some example translations\n",
    "num_examples = 5\n",
    "print(\"\\nExample Translations:\")\n",
    "for i in range(min(num_examples, len(translations))):\n",
    "    print(f\"Source: {references[i]}\")\n",
    "    print(f\"Translation: {translations[i]}\")\n",
    "    print(f\"Reference: {references[i]}\")\n",
    "    print()"
   ]
  }
 ],
 "metadata": {
  "kernelspec": {
   "display_name": "Python 3",
   "language": "python",
   "name": "python3"
  },
  "language_info": {
   "codemirror_mode": {
    "name": "ipython",
    "version": 3
   },
   "file_extension": ".py",
   "mimetype": "text/x-python",
   "name": "python",
   "nbconvert_exporter": "python",
   "pygments_lexer": "ipython3",
   "version": "3.12.6"
  }
 },
 "nbformat": 4,
 "nbformat_minor": 2
}
